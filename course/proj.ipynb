{
 "cells": [
  {
   "cell_type": "code",
   "execution_count": 1,
   "metadata": {},
   "outputs": [],
   "source": [
    "import cv2\n",
    "import numpy as np\n",
    "import os\n",
    "from sklearn.cluster import DBSCAN"
   ]
  },
  {
   "cell_type": "code",
   "execution_count": 2,
   "metadata": {},
   "outputs": [],
   "source": [
    "def extract_and_match_features(image1_path, image2_path):\n",
    "    # 读取图像\n",
    "    img1 = cv2.imread(image1_path)\n",
    "    img2 = cv2.imread(image2_path)\n",
    "\n",
    "    # 创建SIFT特征提取器\n",
    "    sift = cv2.SIFT_create()\n",
    "\n",
    "    # 提取特征点和描述子\n",
    "    kp1, des1 = sift.detectAndCompute(img1, None)\n",
    "    kp2, des2 = sift.detectAndCompute(img2, None)\n",
    "\n",
    "    # 创建暴力匹配器\n",
    "    bf = cv2.BFMatcher()\n",
    "    matches = bf.knnMatch(des1, des2, k=2)\n",
    "\n",
    "    # 筛选出好的匹配点（使用Lowe's ratio test）\n",
    "    good_matches = []\n",
    "    for m, n in matches:\n",
    "        if m.distance < 0.75 * n.distance:\n",
    "            good_matches.append(m)\n",
    "\n",
    "    return good_matches, kp1, kp2"
   ]
  },
  {
   "cell_type": "code",
   "execution_count": 3,
   "metadata": {},
   "outputs": [],
   "source": [
    "def get_object_locations(good_matches, kp1, kp2):\n",
    "    locations1 = []\n",
    "    locations2 = []\n",
    "    for match in good_matches:\n",
    "        pt1 = kp1[match.queryIdx].pt\n",
    "        pt2 = kp2[match.trainIdx].pt\n",
    "        locations1.append(pt1)\n",
    "        locations2.append(pt2)\n",
    "\n",
    "    return np.array(locations1), np.array(locations2)"
   ]
  },
  {
   "cell_type": "code",
   "execution_count": 4,
   "metadata": {},
   "outputs": [],
   "source": [
    "def cluster_objects(locations_all):\n",
    "    clustering = DBSCAN(eps=10, min_samples=2).fit(locations_all)\n",
    "    return clustering.labels_"
   ]
  },
  {
   "cell_type": "code",
   "execution_count": 5,
   "metadata": {},
   "outputs": [],
   "source": [
    "def count_unique_objects(labels):\n",
    "    unique_labels = set(labels)\n",
    "    num_unique_objects = len(unique_labels) - (1 if -1 in unique_labels else 0)  # 排除噪声点（标记为-1的情况）\n",
    "    return num_unique_objects"
   ]
  },
  {
   "cell_type": "code",
   "execution_count": 6,
   "metadata": {},
   "outputs": [],
   "source": [
    "def count_objects_in_images(image_folder):\n",
    "    image_files = [os.path.join(image_folder, f) for f in os.listdir(image_folder) if f.endswith('.jpg') or f.endswith('.png')]\n",
    "    locations_all = []\n",
    "    for i in range(len(image_files) - 1):\n",
    "        for j in range(i + 1, len(image_files)):\n",
    "            good_matches, kp1, kp2 = extract_and_match_features(image_files[i], image_files[j])\n",
    "            locations1, locations2 = get_object_locations(good_matches, kp1, kp2)\n",
    "            locations_all.extend(locations1)\n",
    "            locations_all.extend(locations2)\n",
    "\n",
    "    labels = cluster_objects(np.array(locations_all))\n",
    "    num_unique_objects = count_unique_objects(labels)\n",
    "    return num_unique_objects"
   ]
  },
  {
   "cell_type": "code",
   "execution_count": 9,
   "metadata": {},
   "outputs": [
    {
     "ename": "error",
     "evalue": "OpenCV(4.10.0) D:\\a\\opencv-python\\opencv-python\\opencv\\modules\\core\\src\\alloc.cpp:73: error: (-4:Insufficient memory) Failed to allocate 85229568 bytes in function 'cv::OutOfMemoryError'\n",
     "output_type": "error",
     "traceback": [
      "\u001b[1;31m---------------------------------------------------------------------------\u001b[0m",
      "\u001b[1;31merror\u001b[0m                                     Traceback (most recent call last)",
      "Cell \u001b[1;32mIn[9], line 1\u001b[0m\n\u001b[1;32m----> 1\u001b[0m num_objects \u001b[38;5;241m=\u001b[39m \u001b[43mcount_objects_in_images\u001b[49m\u001b[43m(\u001b[49m\u001b[38;5;124;43m'\u001b[39;49m\u001b[38;5;124;43m./mini\u001b[39;49m\u001b[38;5;124;43m'\u001b[39;49m\u001b[43m)\u001b[49m\n\u001b[0;32m      2\u001b[0m \u001b[38;5;28mprint\u001b[39m(\u001b[38;5;124mf\u001b[39m\u001b[38;5;124m\"\u001b[39m\u001b[38;5;124m不重复的物体个数为: \u001b[39m\u001b[38;5;132;01m{\u001b[39;00mnum_objects\u001b[38;5;132;01m}\u001b[39;00m\u001b[38;5;124m\"\u001b[39m)\n",
      "Cell \u001b[1;32mIn[6], line 6\u001b[0m, in \u001b[0;36mcount_objects_in_images\u001b[1;34m(image_folder)\u001b[0m\n\u001b[0;32m      4\u001b[0m \u001b[38;5;28;01mfor\u001b[39;00m i \u001b[38;5;129;01min\u001b[39;00m \u001b[38;5;28mrange\u001b[39m(\u001b[38;5;28mlen\u001b[39m(image_files) \u001b[38;5;241m-\u001b[39m \u001b[38;5;241m1\u001b[39m):\n\u001b[0;32m      5\u001b[0m     \u001b[38;5;28;01mfor\u001b[39;00m j \u001b[38;5;129;01min\u001b[39;00m \u001b[38;5;28mrange\u001b[39m(i \u001b[38;5;241m+\u001b[39m \u001b[38;5;241m1\u001b[39m, \u001b[38;5;28mlen\u001b[39m(image_files)):\n\u001b[1;32m----> 6\u001b[0m         good_matches, kp1, kp2 \u001b[38;5;241m=\u001b[39m \u001b[43mextract_and_match_features\u001b[49m\u001b[43m(\u001b[49m\u001b[43mimage_files\u001b[49m\u001b[43m[\u001b[49m\u001b[43mi\u001b[49m\u001b[43m]\u001b[49m\u001b[43m,\u001b[49m\u001b[43m \u001b[49m\u001b[43mimage_files\u001b[49m\u001b[43m[\u001b[49m\u001b[43mj\u001b[49m\u001b[43m]\u001b[49m\u001b[43m)\u001b[49m\n\u001b[0;32m      7\u001b[0m         locations1, locations2 \u001b[38;5;241m=\u001b[39m get_object_locations(good_matches, kp1, kp2)\n\u001b[0;32m      8\u001b[0m         locations_all\u001b[38;5;241m.\u001b[39mextend(locations1)\n",
      "Cell \u001b[1;32mIn[2], line 10\u001b[0m, in \u001b[0;36mextract_and_match_features\u001b[1;34m(image1_path, image2_path)\u001b[0m\n\u001b[0;32m      7\u001b[0m sift \u001b[38;5;241m=\u001b[39m cv2\u001b[38;5;241m.\u001b[39mSIFT_create()\n\u001b[0;32m      9\u001b[0m \u001b[38;5;66;03m# 提取特征点和描述子\u001b[39;00m\n\u001b[1;32m---> 10\u001b[0m kp1, des1 \u001b[38;5;241m=\u001b[39m \u001b[43msift\u001b[49m\u001b[38;5;241;43m.\u001b[39;49m\u001b[43mdetectAndCompute\u001b[49m\u001b[43m(\u001b[49m\u001b[43mimg1\u001b[49m\u001b[43m,\u001b[49m\u001b[43m \u001b[49m\u001b[38;5;28;43;01mNone\u001b[39;49;00m\u001b[43m)\u001b[49m\n\u001b[0;32m     11\u001b[0m kp2, des2 \u001b[38;5;241m=\u001b[39m sift\u001b[38;5;241m.\u001b[39mdetectAndCompute(img2, \u001b[38;5;28;01mNone\u001b[39;00m)\n\u001b[0;32m     13\u001b[0m \u001b[38;5;66;03m# 创建暴力匹配器\u001b[39;00m\n",
      "\u001b[1;31merror\u001b[0m: OpenCV(4.10.0) D:\\a\\opencv-python\\opencv-python\\opencv\\modules\\core\\src\\alloc.cpp:73: error: (-4:Insufficient memory) Failed to allocate 85229568 bytes in function 'cv::OutOfMemoryError'\n"
     ]
    }
   ],
   "source": [
    "num_objects = count_objects_in_images('./mini')\n",
    "print(f\"不重复的物体个数为: {num_objects}\")"
   ]
  }
 ],
 "metadata": {
  "kernelspec": {
   "display_name": "d2l-zh",
   "language": "python",
   "name": "python3"
  },
  "language_info": {
   "codemirror_mode": {
    "name": "ipython",
    "version": 3
   },
   "file_extension": ".py",
   "mimetype": "text/x-python",
   "name": "python",
   "nbconvert_exporter": "python",
   "pygments_lexer": "ipython3",
   "version": "3.8.19"
  }
 },
 "nbformat": 4,
 "nbformat_minor": 2
}
