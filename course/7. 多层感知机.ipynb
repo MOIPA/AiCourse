{
 "cells": [
  {
   "cell_type": "code",
   "execution_count": 1,
   "metadata": {},
   "outputs": [],
   "source": [
    "import torch\n",
    "from torch import nn\n",
    "from d2l import torch as d2l\n",
    "import myd2l\n",
    "myd2l = myd2l()\n",
    "batch_size = 256\n",
    "train_iter,test_iter = d2l.load_data_fashion_mnist(batch_size)"
   ]
  },
  {
   "cell_type": "code",
   "execution_count": 5,
   "metadata": {},
   "outputs": [],
   "source": [
    "# 实现一个具有单隐藏层的多层感知机，隐藏层h1大小为256\n",
    "num_inputs,num_outputs,num_hiddens = 784,10,256\n",
    "\n",
    "W1 = nn.Parameter(      # nn.Parameter加不加没关系\n",
    "    torch.randn(num_inputs,num_hiddens,requires_grad=True)   # 等价于 torch.normal(0,1,requ...)\n",
    ")\n",
    "b1 = nn.Parameter(\n",
    "    torch.zeros(num_hiddens,requires_grad=True)\n",
    ")\n",
    "\n",
    "W2 = nn.Parameter(\n",
    "    torch.randn(num_hiddens,num_outputs,requires_grad=True)\n",
    ")\n",
    "b2 = nn.Parameter(\n",
    "    torch.zeros(num_outputs,requires_grad=True)\n",
    ")\n",
    "params = [W1, b1, W2, b2]\n"
   ]
  },
  {
   "cell_type": "code",
   "execution_count": 3,
   "metadata": {},
   "outputs": [],
   "source": [
    "# ReLU实现 输入为一个向量\n",
    "def relu(x):\n",
    "    a = torch.zeros_like(x)\n",
    "    return torch.max(x,a)   # 比较每个元素返回最大的"
   ]
  },
  {
   "cell_type": "code",
   "execution_count": 4,
   "metadata": {},
   "outputs": [],
   "source": [
    "# 模型实现\n",
    "def net(X):\n",
    "    X = X.reshape((-1,num_inputs))  # 拉成二维矩阵，如果是256张*28*28要拉成：256张*784像素\n",
    "    # 激活隐藏层    所有的b向量和矩阵的加法都用了广播机制\n",
    "    H = relu(X @ W1 + b1)       # @ 表示矩阵和向量乘法或者矩阵和矩阵乘法 和 matmul等价\n",
    "    return (H @ W2 + b2)        # @ 符号是python自带的，可以对张量和numpy的array操作\n",
    "loss = nn.CrossEntropyLoss()"
   ]
  },
  {
   "cell_type": "code",
   "execution_count": 7,
   "metadata": {},
   "outputs": [
    {
     "ename": "NameError",
     "evalue": "name 'myd2l' is not defined",
     "output_type": "error",
     "traceback": [
      "\u001b[1;31m---------------------------------------------------------------------------\u001b[0m",
      "\u001b[1;31mNameError\u001b[0m                                 Traceback (most recent call last)",
      "Cell \u001b[1;32mIn[7], line 3\u001b[0m\n\u001b[0;32m      1\u001b[0m num_epochs,lr \u001b[38;5;241m=\u001b[39m \u001b[38;5;241m10\u001b[39m,\u001b[38;5;241m0.1\u001b[39m\n\u001b[0;32m      2\u001b[0m updater \u001b[38;5;241m=\u001b[39m torch\u001b[38;5;241m.\u001b[39moptim\u001b[38;5;241m.\u001b[39mSGD(params,lr)\n\u001b[1;32m----> 3\u001b[0m \u001b[43mmyd2l\u001b[49m\u001b[38;5;241m.\u001b[39mtrain_ch3(net,train_iter,test_iter,loss,num_epochs,updater)\n",
      "\u001b[1;31mNameError\u001b[0m: name 'myd2l' is not defined"
     ]
    }
   ],
   "source": [
    "num_epochs,lr = 10,0.1\n",
    "updater = torch.optim.SGD(params,lr)\n",
    "myd2l.train_ch3(net,train_iter,test_iter,loss,num_epochs,updater)"
   ]
  }
 ],
 "metadata": {
  "kernelspec": {
   "display_name": "d2l-zh",
   "language": "python",
   "name": "python3"
  },
  "language_info": {
   "codemirror_mode": {
    "name": "ipython",
    "version": 3
   },
   "file_extension": ".py",
   "mimetype": "text/x-python",
   "name": "python",
   "nbconvert_exporter": "python",
   "pygments_lexer": "ipython3",
   "version": "3.8.19"
  }
 },
 "nbformat": 4,
 "nbformat_minor": 2
}
