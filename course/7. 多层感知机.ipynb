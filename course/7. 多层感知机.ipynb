{
 "cells": [
  {
   "cell_type": "code",
   "execution_count": 1,
   "metadata": {},
   "outputs": [],
   "source": [
    "import torch\n",
    "from torch import nn\n",
    "from d2l import torch as d2l\n",
    "\n",
    "batch_size = 256\n",
    "train_iter,test_iter = d2l.load_data_fashion_mnist(batch_size)"
   ]
  },
  {
   "cell_type": "code",
   "execution_count": null,
   "metadata": {},
   "outputs": [],
   "source": [
    "# 实现一个具有单隐藏层的多层感知机，隐藏层h1大小为256\n",
    "num_inputs,num_outputs,num_hiddens = 784,10,256\n",
    "\n",
    "W1 = nn.Parameter(\n",
    "    torch.randn(num_inputs,num_hiddens,requires_grad=True)\n",
    ")\n",
    "b1 = nn.Parameter(\n",
    "    torch.zeros(num_hiddens,requires_grad=True)\n",
    ")\n",
    "\n",
    "W2 = nn.Parameter(\n",
    "    torch.randn(num_hiddens,num_outputs,requires_grad=True)\n",
    ")\n",
    "b2 = nn.Parameter(\n",
    "    torch.zeros(num_outputs,requires_grad=True)\n",
    ")"
   ]
  }
 ],
 "metadata": {
  "kernelspec": {
   "display_name": "d2l-zh",
   "language": "python",
   "name": "python3"
  },
  "language_info": {
   "codemirror_mode": {
    "name": "ipython",
    "version": 3
   },
   "file_extension": ".py",
   "mimetype": "text/x-python",
   "name": "python",
   "nbconvert_exporter": "python",
   "pygments_lexer": "ipython3",
   "version": "3.8.19"
  }
 },
 "nbformat": 4,
 "nbformat_minor": 2
}
