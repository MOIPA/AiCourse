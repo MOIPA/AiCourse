{
 "cells": [
  {
   "cell_type": "markdown",
   "id": "6c1dd9a9",
   "metadata": {},
   "source": [
    "# MCP问题\n",
    "\n",
    "M*N问题：没有标准的情况下M个ai应用连接到N个外部工具的挑战\n",
    "\n",
    "Host（ai应用层），client（Mcp-Client负责连接各种server并执行对应服务得到结果返回llm），server（提供各种服务）\n",
    "\n",
    "## 通讯\n",
    "\n",
    "### 通讯协议\n",
    "MCP的通讯协议：JSON-RPC（基于json的轻量远程调用协议），该协议定义了三种类型的消息\n",
    "\n",
    "1. 请求，client到server的请求，包括id，调用的方法，参数\n",
    "2. 响应，server到client的返回，包括请求对应的id，result结果\n",
    "3. 通知，server到client的，一般是提供有关事件的更新或通知\n",
    "\n",
    "### 通讯机制\n",
    "client和server的通讯机制\n",
    "\n",
    "1. 本地stdio输入输出，host将server作为子进程启动，通过stdin和stdout通信\n",
    "2. Http+SSE通信，SSE是服务器发送事件\n",
    "\n",
    "### 交互流程\n",
    "\n",
    "1. 初始化：client连接到server，交换协议版本和功能 --》 server响应支持的版本 --》Client通知初始化完成\n",
    "2. 发现：client请求可用功能信息 --》 server响应可用工具的列表\n",
    "3. 执行：client请求某个功能呢 --》 server可以返回通知，server也可以返回执行结果响应\n",
    "4. 终止：client发送终止信息 --》 server响应确认 --》 client发送最终退出消息\n",
    "\n",
    "## MCP组件\n",
    "\n",
    "### 1. 工具\n",
    "\n",
    "类似langchain的tool，一段工作函数，执行某个任务，比如查询天气。由llm决定什么时候调用这些工具\n",
    "\n",
    "### 2. 资源\n",
    "\n",
    "对数据源的访问，只读的，比如查看文件内容，检索数据库记录，读取配置\n",
    "\n",
    "### 3. 提示词\n",
    "\n",
    "server到client，预定义的提示词模板，用于llm和server互动来引导工作流程\n",
    "\n",
    "### 4. 采样\n",
    "\n",
    "复杂任务时，是server请求client的llm帮忙做某件事，一般用于多任务步骤\n",
    "\n",
    "### 以上的组件发现\n",
    "\n",
    "client连接到server时通过特定list查询提供的工具，资源，提示词等\n",
    "\n",
    "1. tools/list\n",
    "2. resources/list\n",
    "3. prompts/list\n"
   ]
  },
  {
   "cell_type": "markdown",
   "id": "9de7f4b9",
   "metadata": {},
   "source": [
    "\n",
    "## MCP的Server端开发工具SDK\n",
    "\n"
   ]
  },
  {
   "cell_type": "code",
   "execution_count": null,
   "id": "fbe8269b",
   "metadata": {},
   "outputs": [],
   "source": [
    "# 这里我使用了UV管理器来管理python下的MCP项目\n",
    "# 初始化完成后编写server.py文件\n",
    "# 最后启动server：uv run mcp dev server.py\n",
    "from mcp.server.fastmcp import FastMCP\n",
    "\n",
    "# Create an MCP server\n",
    "mcp = FastMCP(\"Weather Service\")\n",
    "\n",
    "# Tool implementation\n",
    "@mcp.tool()\n",
    "def get_weather(location: str) -> str:\n",
    "    \"\"\"Get the current weather for a specified location.\"\"\"\n",
    "    return f\"Weather in {location}: Sunny, 72°F\"\n",
    "\n",
    "# Resource implementation\n",
    "@mcp.resource(\"weather://{location}\")\n",
    "def weather_resource(location: str) -> str:\n",
    "    \"\"\"Provide weather data as a resource.\"\"\"\n",
    "    return f\"Weather data for {location}: Sunny, 72°F\"\n",
    "\n",
    "# Prompt implementation\n",
    "@mcp.prompt()\n",
    "def weather_report(location: str) -> str:\n",
    "    \"\"\"Create a weather report prompt.\"\"\"\n",
    "    return f\"\"\"You are a weather reporter. Weather report for {location}?\"\"\"\n",
    "\n",
    "\n",
    "# Run the server\n",
    "if __name__ == \"__main__\":\n",
    "    mcp.run()"
   ]
  },
  {
   "cell_type": "markdown",
   "id": "9d345883",
   "metadata": {},
   "source": [
    "## MCP客户端\n",
    "\n",
    "客户端负责和mcp服务器进行交互\n",
    "\n",
    "Anthropic 的 Claude Desktop 是最著名的 MCP 客户端之一，提供与各种 MCP 服务器的集成\n"
   ]
  }
 ],
 "metadata": {
  "kernelspec": {
   "display_name": "d2l",
   "language": "python",
   "name": "python3"
  },
  "language_info": {
   "codemirror_mode": {
    "name": "ipython",
    "version": 3
   },
   "file_extension": ".py",
   "mimetype": "text/x-python",
   "name": "python",
   "nbconvert_exporter": "python",
   "pygments_lexer": "ipython3",
   "version": "3.9.20"
  }
 },
 "nbformat": 4,
 "nbformat_minor": 5
}
