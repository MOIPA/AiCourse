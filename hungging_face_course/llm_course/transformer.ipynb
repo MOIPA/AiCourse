{
 "cells": [
  {
   "cell_type": "markdown",
   "id": "6e825e64",
   "metadata": {},
   "source": [
    "# 学习pipeline内部原理\n"
   ]
  },
  {
   "cell_type": "code",
   "execution_count": 1,
   "id": "a06caefc",
   "metadata": {},
   "outputs": [
    {
     "name": "stderr",
     "output_type": "stream",
     "text": [
      "d:\\Anaconda\\envs\\d2lc\\lib\\site-packages\\tqdm\\auto.py:21: TqdmWarning: IProgress not found. Please update jupyter and ipywidgets. See https://ipywidgets.readthedocs.io/en/stable/user_install.html\n",
      "  from .autonotebook import tqdm as notebook_tqdm\n"
     ]
    }
   ],
   "source": [
    "from transformers import AutoTokenizer\n",
    "from transformers import AutoModel\n",
    "from transformers import AutoModelForSequenceClassification\n"
   ]
  },
  {
   "cell_type": "markdown",
   "id": "c3e5fc64",
   "metadata": {},
   "source": [
    "### pipeline过程\n",
    "\n",
    "Tokenizer ==> Model ==>  Post Processing"
   ]
  },
  {
   "cell_type": "markdown",
   "id": "b6d81480",
   "metadata": {},
   "source": [
    "### PipeLine流程拆分\n",
    "\n",
    "Tokenizer\n",
    "\n",
    "```\n",
    "将输入拆分为单词、子单词或符号（如标点符号），称为 token（标记）\n",
    "将每个标记（token）映射到一个数字，称为 input ID（inputs ID）\n",
    "添加模型需要的其他输入，例如特殊标记（如 [CLS] 和 [SEP] ）\n",
    "位置编码：指示每个标记在句子中的位置。\n",
    "段落标记：区分不同段落的文本。\n",
    "特殊标记：例如 [CLS] 和 [SEP] 标记，用于标识句子的开头和结尾。\n",
    "```"
   ]
  },
  {
   "cell_type": "code",
   "execution_count": 2,
   "id": "fc45bcbf",
   "metadata": {},
   "outputs": [],
   "source": [
    "checkpoint = \"distilbert-base-uncased-finetuned-sst-2-english\"   # 这里是一个分类模型\n",
    "# 下载该预训练模型的tokenizer\n",
    "tokenizer = AutoTokenizer.from_pretrained(checkpoint)"
   ]
  },
  {
   "cell_type": "code",
   "execution_count": 3,
   "id": "218d7d47",
   "metadata": {},
   "outputs": [
    {
     "name": "stdout",
     "output_type": "stream",
     "text": [
      "{'input_ids': tensor([[  101,  1045,  1005,  2310,  2042,  3403,  2005,  1037, 17662, 12172,\n",
      "          2607,  2026,  2878,  2166,  1012,   102],\n",
      "        [  101,  1045,  2066,  2023,  2061,  2172,   102,     0,     0,     0,\n",
      "             0,     0,     0,     0,     0,     0]]), 'attention_mask': tensor([[1, 1, 1, 1, 1, 1, 1, 1, 1, 1, 1, 1, 1, 1, 1, 1],\n",
      "        [1, 1, 1, 1, 1, 1, 1, 0, 0, 0, 0, 0, 0, 0, 0, 0]])}\n"
     ]
    }
   ],
   "source": [
    "raw_inputs = [\n",
    "    \"I've been waiting for a HuggingFace course my whole life.\",\n",
    "    \"I like this so much\"\n",
    "]\n",
    "inputs = tokenizer(raw_inputs,padding=True,truncation=True,return_tensors='pt')\n",
    "print(inputs) # 可以看到单词被转为了对应编码id"
   ]
  },
  {
   "cell_type": "code",
   "execution_count": 4,
   "id": "c0b7bcf9",
   "metadata": {},
   "outputs": [],
   "source": [
    "# 下载该预训练模型的模型部分(只包含基本transformer块，不含tokenizer和post processing)\n",
    "# post processing 中包含了一个ffn\n",
    "model = AutoModel.from_pretrained(checkpoint)"
   ]
  },
  {
   "cell_type": "code",
   "execution_count": 5,
   "id": "705ad9e5",
   "metadata": {},
   "outputs": [
    {
     "name": "stdout",
     "output_type": "stream",
     "text": [
      "BaseModelOutput(last_hidden_state=tensor([[[-0.1798,  0.2333,  0.6321,  ..., -0.3017,  0.5008,  0.1481],\n",
      "         [ 0.2758,  0.6497,  0.3200,  ..., -0.0760,  0.5136,  0.1329],\n",
      "         [ 0.9046,  0.0985,  0.2950,  ...,  0.3352, -0.1407, -0.6464],\n",
      "         ...,\n",
      "         [ 0.1466,  0.5661,  0.3235,  ..., -0.3376,  0.5100, -0.0561],\n",
      "         [ 0.7500,  0.0487,  0.1738,  ...,  0.4684,  0.0030, -0.6084],\n",
      "         [ 0.0519,  0.3729,  0.5223,  ...,  0.3584,  0.6500, -0.3883]],\n",
      "\n",
      "        [[ 0.4208,  0.1957,  0.1640,  ...,  0.5211,  0.9966, -0.4569],\n",
      "         [ 0.6533,  0.3599,  0.1282,  ...,  0.4988,  1.0136, -0.3346],\n",
      "         [ 0.6274,  0.3405,  0.3473,  ...,  0.4319,  0.9345, -0.3468],\n",
      "         ...,\n",
      "         [ 0.2336,  0.1154,  0.1394,  ...,  0.5895,  0.8571, -0.4210],\n",
      "         [ 0.2652,  0.1805,  0.1310,  ...,  0.5579,  0.8555, -0.4207],\n",
      "         [ 0.2358,  0.1306,  0.1516,  ...,  0.6039,  0.8488, -0.4314]]],\n",
      "       grad_fn=<NativeLayerNormBackward0>), hidden_states=None, attentions=None)\n"
     ]
    }
   ],
   "source": [
    "outputs = model(**inputs) # **是将inputs解包成关键字形式输入\n",
    "print(outputs)\n",
    "# 输入的是tokenizer后的序列id，输出logits 格式（batchsize，sequence length，hidden size）"
   ]
  },
  {
   "cell_type": "code",
   "execution_count": 6,
   "id": "a54b515c",
   "metadata": {},
   "outputs": [
    {
     "name": "stdout",
     "output_type": "stream",
     "text": [
      "SequenceClassifierOutput(loss=None, logits=tensor([[-1.5607,  1.6123],\n",
      "        [-4.2844,  4.6212]], grad_fn=<AddmmBackward0>), hidden_states=None, attentions=None)\n"
     ]
    }
   ],
   "source": [
    "model = AutoModelForSequenceClassification.from_pretrained(checkpoint)  # 下载带分类头（也就是模型最后的ffn层输出分类结果）的模型\n",
    "outputs = model(**inputs)\n",
    "print(outputs)\n",
    "# 相比上面那个不带分类头的模型，这次输出的不再是隐变量，而是分类结果，只不过还没做softmax，id转label等操作"
   ]
  },
  {
   "cell_type": "markdown",
   "id": "13e5fa2a",
   "metadata": {},
   "source": [
    "所有Transformers 模型的输出都是 logits，因为训练时的损失函数通常会将最后的激活函数（如 SoftMax）与实际的损失函数（如交叉熵）融合）"
   ]
  },
  {
   "cell_type": "code",
   "execution_count": 7,
   "id": "02f72a7d",
   "metadata": {},
   "outputs": [
    {
     "name": "stdout",
     "output_type": "stream",
     "text": [
      "tensor([[4.0195e-02, 9.5980e-01],\n",
      "        [1.3561e-04, 9.9986e-01]], grad_fn=<SoftmaxBackward0>)\n"
     ]
    }
   ],
   "source": [
    "import torch\n",
    "# 做softmax\n",
    "predictions = torch.nn.functional.softmax(outputs.logits,dim=-1)\n",
    "print(predictions)"
   ]
  },
  {
   "cell_type": "code",
   "execution_count": 8,
   "id": "647df783",
   "metadata": {},
   "outputs": [
    {
     "data": {
      "text/plain": [
       "{0: 'NEGATIVE', 1: 'POSITIVE'}"
      ]
     },
     "execution_count": 8,
     "metadata": {},
     "output_type": "execute_result"
    }
   ],
   "source": [
    "# 接下来做 id转label，得先知道id和label的映射关系，需要查看我们刚刚使用的模型的id转换配置\n",
    "# 输出结果的单个样本的下标0，1，。。。对应id\n",
    "model.config.id2label"
   ]
  },
  {
   "cell_type": "markdown",
   "id": "d8037c06",
   "metadata": {},
   "source": [
    "### 详解三个流程中的Transformer模型部分"
   ]
  },
  {
   "cell_type": "code",
   "execution_count": 9,
   "id": "23593f03",
   "metadata": {},
   "outputs": [],
   "source": [
    "from transformers import BertConfig,BertModel\n",
    "\n",
    "config = BertConfig()       # 库中默认的bert配置\n",
    "model = BertModel(config)   #使用默认配置创建模型会使用随机值对其进行初始化："
   ]
  },
  {
   "cell_type": "code",
   "execution_count": 10,
   "id": "2611e417",
   "metadata": {},
   "outputs": [
    {
     "name": "stdout",
     "output_type": "stream",
     "text": [
      "BertConfig {\n",
      "  \"_attn_implementation_autoset\": true,\n",
      "  \"attention_probs_dropout_prob\": 0.1,\n",
      "  \"classifier_dropout\": null,\n",
      "  \"hidden_act\": \"gelu\",\n",
      "  \"hidden_dropout_prob\": 0.1,\n",
      "  \"hidden_size\": 768,\n",
      "  \"initializer_range\": 0.02,\n",
      "  \"intermediate_size\": 3072,\n",
      "  \"layer_norm_eps\": 1e-12,\n",
      "  \"max_position_embeddings\": 512,\n",
      "  \"model_type\": \"bert\",\n",
      "  \"num_attention_heads\": 12,\n",
      "  \"num_hidden_layers\": 12,\n",
      "  \"pad_token_id\": 0,\n",
      "  \"position_embedding_type\": \"absolute\",\n",
      "  \"transformers_version\": \"4.47.0\",\n",
      "  \"type_vocab_size\": 2,\n",
      "  \"use_cache\": true,\n",
      "  \"vocab_size\": 30522\n",
      "}\n",
      "\n"
     ]
    }
   ],
   "source": [
    "print(config)"
   ]
  },
  {
   "cell_type": "code",
   "execution_count": 11,
   "id": "d1f8b5a1",
   "metadata": {},
   "outputs": [],
   "source": [
    "# 刚刚创建的模型，需要从头开始训练\n",
    "# 直接加载预训练模型\n",
    "model = BertModel.from_pretrained(\"bert-base-cased\") # 加载google的模型参数\n",
    "\n",
    "# 相比直接使用 AutoModel.from_pretained(\"bert-base-cased\") 或者 pipeline(\"bert-base-cased\")\n",
    "# 这种方式更方便阅读"
   ]
  },
  {
   "cell_type": "code",
   "execution_count": 12,
   "id": "ca2a9a32",
   "metadata": {},
   "outputs": [],
   "source": [
    "# 保存模型 两个文件，架构配置和模型参数\n",
    "model.save_pretrained(\"./my_model\")"
   ]
  },
  {
   "cell_type": "code",
   "execution_count": 13,
   "id": "72a8173d",
   "metadata": {},
   "outputs": [
    {
     "name": "stdout",
     "output_type": "stream",
     "text": [
      "torch.Size([3, 4, 768])\n"
     ]
    }
   ],
   "source": [
    "# 我们刚刚使用了上面的tokenizer来将句子转为词汇表索引\n",
    "# 因为transformer库的模型只接受词汇表索引\n",
    "# 我们手动构建一个输入来测测\n",
    "encoded_sequences = [\n",
    "    [101, 7592, 999, 102],\n",
    "    [101, 4658, 1012, 102],\n",
    "    [101, 3835, 999, 102],\n",
    "]\n",
    "\n",
    "# *********** 注意 ： 这里必须是句子列表，如果endoced_sequences里面只有一个句子，也要[[]]\n",
    "\n",
    "# 转为张量，transformers库的模型只接受张量\n",
    "import torch\n",
    "model_inputs = torch.tensor(encoded_sequences)\n",
    "\n",
    "# 模型接受并给出隐状态结果\n",
    "output = model(model_inputs)\n",
    "print(output.last_hidden_state.shape)"
   ]
  },
  {
   "cell_type": "markdown",
   "id": "4bf93a58",
   "metadata": {},
   "source": [
    "### 详解三个流程中的Tokenizer模型部分 （英语）"
   ]
  },
  {
   "cell_type": "markdown",
   "id": "61f92e74",
   "metadata": {},
   "source": [
    "##### 1. 基于单词的tokenization (word-based tokenization)\n",
    "\n",
    "> 目标是将原始文本拆分为单词并为每个单词找到一个数字表示"
   ]
  },
  {
   "cell_type": "code",
   "execution_count": 14,
   "id": "de02b372",
   "metadata": {},
   "outputs": [
    {
     "name": "stdout",
     "output_type": "stream",
     "text": [
      "['Jim', 'Henson', 'was', 'a', 'puppeteer']\n"
     ]
    }
   ],
   "source": [
    "tokenized_text = \"Jim Henson was a puppeteer\".split()  # 直接调用split函数切割出来单词\n",
    "print(tokenized_text)\n",
    "\n",
    "# 我们最终可以得到一些非常大的“词汇表（vocabulary）”，其中词汇表的大小由我们在语料库中拥有的独立 tokens 的总数确定。\n",
    "# 每个单词都分配了一个 ID，从 0 开始一直到词汇表的大小。模型使用这些 ID 来识别每个词。\n",
    "\n",
    "# 我们需要一个自定义 token 来表示不在我们词汇表中的单词。这被称为“unknown” token，通常表示为“[UNK]”或“<unk>”"
   ]
  },
  {
   "cell_type": "markdown",
   "id": "10e14ff2",
   "metadata": {},
   "source": [
    "##### 2. 基于字符的tokenization (character-based tokenization)\n",
    "\n",
    "> 使用26个字母+标点+特殊符号\n",
    "\n",
    "这样做会导致我们的模型需要处理大量的 tokens：虽然一个单词在基于单词的 tokenizer 中只是一个 token，但当它被转换为字符时，很可能就变成了 10 个或更多的 tokens"
   ]
  },
  {
   "cell_type": "markdown",
   "id": "17097f64",
   "metadata": {},
   "source": [
    "为了两全其美，我们可以使用结合这两种方法的第三种技术：基于子词（subword）的 tokenization。\n",
    "\n",
    "##### 3. 基于子词（subword）的 tokenization\n",
    "\n",
    "基于子词（subword）的 tokenization 算法依赖于这样一个原则：常用词不应被分解为更小的子词，但罕见词应被分解为有意义的子词。\n",
    "\n",
    "例如，“annoyingly”可能被视为一个罕见的词，可以分解为“annoying”和“ly”。这两者都可能作为独立的子词并且出现得更频繁，同时“annoyingly”的含义通过“annoying”和“ly”的复合含义得以保留。\n"
   ]
  },
  {
   "cell_type": "markdown",
   "id": "c63c3c48",
   "metadata": {},
   "source": [
    "### 如果是中文怎么分词呢？\n",
    "\n",
    "NJU的统计模型课程中有，可以检查老师给的ppt\n",
    "\n",
    "基于词典的分词算法，也叫字符串匹配分词算法，将待分词的字符串与已构建好的词典中的词进行匹配，若匹配成功则识别出该词。\n",
    "\n",
    "正向最大匹配法\n",
    "\n",
    "逆向最大匹配法\n",
    "\n",
    "双向匹配分词法\n",
    "\n",
    "基于统计的机器学习算法\n",
    "\n",
    "基于理解的分词方法\n"
   ]
  },
  {
   "cell_type": "markdown",
   "id": "4cbcad52",
   "metadata": {},
   "source": [
    "### tokenizer加载和保存"
   ]
  },
  {
   "cell_type": "code",
   "execution_count": 15,
   "id": "d89f8e7b",
   "metadata": {},
   "outputs": [
    {
     "data": {
      "text/plain": [
       "('./my_tokenizer\\\\tokenizer_config.json',\n",
       " './my_tokenizer\\\\special_tokens_map.json',\n",
       " './my_tokenizer\\\\vocab.txt',\n",
       " './my_tokenizer\\\\added_tokens.json')"
      ]
     },
     "execution_count": 15,
     "metadata": {},
     "output_type": "execute_result"
    }
   ],
   "source": [
    "from transformers import BertTokenizer\n",
    "\n",
    "tokenizer = BertTokenizer.from_pretrained(\"bert-base-cased\")\n",
    "# 也可以AutoTokenizer.from_pretrained\n",
    "\n",
    "\n",
    "# 保存\n",
    "tokenizer.save_pretrained(\"./my_tokenizer\")"
   ]
  },
  {
   "cell_type": "code",
   "execution_count": 16,
   "id": "c4860e88",
   "metadata": {},
   "outputs": [
    {
     "name": "stdout",
     "output_type": "stream",
     "text": [
      "{'input_ids': [101, 7993, 170, 13809, 23763, 2443, 1110, 3014, 102], 'token_type_ids': [0, 0, 0, 0, 0, 0, 0, 0, 0], 'attention_mask': [1, 1, 1, 1, 1, 1, 1, 1, 1]}\n"
     ]
    }
   ],
   "source": [
    "print(tokenizer(\"Using a Transformer network is simple\"))\n"
   ]
  },
  {
   "cell_type": "code",
   "execution_count": 17,
   "id": "467d86c0",
   "metadata": {},
   "outputs": [
    {
     "name": "stdout",
     "output_type": "stream",
     "text": [
      "['Using', 'a', 'Trans', '##former', 'network', 'is', 'simple']\n",
      "[7993, 170, 13809, 23763, 2443, 1110, 3014]\n"
     ]
    }
   ],
   "source": [
    "tokens = tokenizer.tokenize(\"Using a Transformer network is simple\")\n",
    "print(tokens)\n",
    "\n",
    "ids = tokenizer.convert_tokens_to_ids(tokens)\n",
    "print(ids)"
   ]
  },
  {
   "cell_type": "markdown",
   "id": "78ac12fb",
   "metadata": {},
   "source": [
    "### tokenizer id转回label"
   ]
  },
  {
   "cell_type": "code",
   "execution_count": 18,
   "id": "423da921",
   "metadata": {},
   "outputs": [
    {
     "data": {
      "text/plain": [
       "'Using a Transformer network is simple'"
      ]
     },
     "execution_count": 18,
     "metadata": {},
     "output_type": "execute_result"
    }
   ],
   "source": [
    "tokenizer.decode([7993, 170, 13809, 23763, 2443, 1110, 3014])"
   ]
  },
  {
   "cell_type": "markdown",
   "id": "2b9cb7ab",
   "metadata": {},
   "source": [
    "### 批量输入示例"
   ]
  },
  {
   "cell_type": "code",
   "execution_count": null,
   "id": "ed54c564",
   "metadata": {},
   "outputs": [
    {
     "name": "stdout",
     "output_type": "stream",
     "text": [
      "Input IDs: tensor([[ 1045,  1005,  2310,  2042,  3403,  2005,  1037, 17662, 12172,  2607,\n",
      "          2026,  2878,  2166,  1012]])\n",
      "Logits: tensor([[-2.7276,  2.8789]], grad_fn=<AddmmBackward0>)\n",
      "Logits: tensor([[-2.7276,  2.8789],\n",
      "        [-2.7276,  2.8789]], grad_fn=<AddmmBackward0>)\n"
     ]
    }
   ],
   "source": [
    "import torch\n",
    "from transformers import AutoTokenizer, AutoModelForSequenceClassification\n",
    "\n",
    "checkpoint = \"distilbert-base-uncased-finetuned-sst-2-english\"\n",
    "tokenizer = AutoTokenizer.from_pretrained(checkpoint)\n",
    "model = AutoModelForSequenceClassification.from_pretrained(checkpoint)\n",
    "\n",
    "sequence = \"I've been waiting for a HuggingFace course my whole life.\"\n",
    "\n",
    "tokens = tokenizer.tokenize(sequence)\n",
    "ids = tokenizer.convert_tokens_to_ids(tokens)\n",
    "\n",
    "input_ids = torch.tensor([ids])\n",
    "print(\"Input IDs:\", input_ids)\n",
    "\n",
    "output = model(input_ids)\n",
    "print(\"Logits:\", output.logits)\n",
    "\n",
    "# 输入多个batch   但是如果两个句子的长度不一致，需要 pad\n",
    "input_ids = torch.tensor([ids,ids])\n",
    "output = model(input_ids)\n",
    "print(\"Logits:\", output.logits)\n",
    "\n"
   ]
  },
  {
   "cell_type": "code",
   "execution_count": null,
   "id": "8ef59a5d",
   "metadata": {},
   "outputs": [
    {
     "name": "stderr",
     "output_type": "stream",
     "text": [
      "We strongly recommend passing in an `attention_mask` since your input_ids may be padded. See https://huggingface.co/docs/transformers/troubleshooting#incorrect-output-when-padding-tokens-arent-masked.\n"
     ]
    },
    {
     "name": "stdout",
     "output_type": "stream",
     "text": [
      "tensor([[ 1.5694, -1.3895]], grad_fn=<AddmmBackward0>)\n",
      "tensor([[ 0.5803, -0.4125]], grad_fn=<AddmmBackward0>)\n",
      "tensor([[ 1.5694, -1.3895],\n",
      "        [ 1.3374, -1.2163]], grad_fn=<AddmmBackward0>)\n"
     ]
    }
   ],
   "source": [
    "# 手动使用 tokenizer.pad_token_id  会发现第二个句子的两次model输出值不一样，说明模型将pad值也纳入了考虑\n",
    "sequence1_ids = [[200, 200, 200]]\n",
    "sequence2_ids = [[200, 200]]\n",
    "batched_ids = [\n",
    "    [200, 200, 200],\n",
    "    [200, 200, tokenizer.pad_token_id],\n",
    "]\n",
    "\n",
    "print(model(torch.tensor(sequence1_ids)).logits)\n",
    "print(model(torch.tensor(sequence2_ids)).logits)\n",
    "print(model(torch.tensor(batched_ids)).logits)"
   ]
  },
  {
   "cell_type": "code",
   "execution_count": 34,
   "id": "fd424a3f",
   "metadata": {},
   "outputs": [
    {
     "name": "stdout",
     "output_type": "stream",
     "text": [
      "SequenceClassifierOutput(loss=None, logits=tensor([[ 1.5694, -1.3895],\n",
      "        [ 0.5803, -0.4125]], grad_fn=<AddmmBackward0>), hidden_states=None, attentions=None)\n"
     ]
    }
   ],
   "source": [
    "# 想要模型无视pad值，设置mask\n",
    "batched_ids = [\n",
    "    [200, 200, 200],\n",
    "    [200, 200, tokenizer.pad_token_id],\n",
    "]\n",
    "attention_mask = [\n",
    "    [1,1,1],\n",
    "    [1,1,0]\n",
    "]\n",
    "print(model(torch.tensor(batched_ids),attention_mask = torch.tensor(attention_mask)))"
   ]
  },
  {
   "cell_type": "code",
   "execution_count": 37,
   "id": "f31ee7d7",
   "metadata": {},
   "outputs": [],
   "source": [
    "# tokenizer一次可以完成所有以上操作 mask,张量,inputs\n",
    "sequences = [\"I've been waiting for a HuggingFace course my whole life.\", \"So have I!\"]\n",
    "tokenizer(sequence)\n",
    "\n",
    "# 可以指定句子长度\n",
    "tokenizer(sequence,padding=\"longest\") # 填充到最长句子长度\n",
    "tokenizer(sequence,padding=\"max_length\") # 填充到模型最大长度\n",
    "tokenizer(sequence,padding=\"max_length\",max_length=8) # 可以手动指定最大长度\n",
    "# 可以截断句子\n",
    "tokenizer(sequence,max_length=8,truncation=True)\n",
    "\n",
    "# 返回 PyTorch tensors\n",
    "model_inputs = tokenizer(sequences, padding=True, return_tensors=\"pt\")\n",
    "\n",
    "# 返回 TensorFlow tensors\n",
    "# model_inputs = tokenizer(sequences, padding=True, return_tensors=\"tf\")\n",
    "\n",
    "# 返回 NumPy arrays\n",
    "model_inputs = tokenizer(sequences, padding=True, return_tensors=\"np\")"
   ]
  },
  {
   "cell_type": "code",
   "execution_count": 40,
   "id": "f65ead95",
   "metadata": {},
   "outputs": [
    {
     "name": "stdout",
     "output_type": "stream",
     "text": [
      "['i', \"'\", 've', 'been', 'waiting', 'for', 'a', 'hugging', '##face', 'course', 'my', 'whole', 'life', '.']\n"
     ]
    },
    {
     "data": {
      "text/plain": [
       "\"[CLS] i've been waiting for a huggingface course my whole life. [SEP]\""
      ]
     },
     "execution_count": 40,
     "metadata": {},
     "output_type": "execute_result"
    }
   ],
   "source": [
    "# 如果使用tokenizer()的方式，会自动添加特殊字符\n",
    "\n",
    "sequence = \"I've been waiting for a HuggingFace course my whole life.\"\n",
    "print(tokenizer.tokenize(sequence))\n",
    "\n",
    "inputs = tokenizer(sequence)\n",
    "tokenizer.decode(inputs[\"input_ids\"])"
   ]
  }
 ],
 "metadata": {
  "kernelspec": {
   "display_name": "d2lc",
   "language": "python",
   "name": "python3"
  },
  "language_info": {
   "codemirror_mode": {
    "name": "ipython",
    "version": 3
   },
   "file_extension": ".py",
   "mimetype": "text/x-python",
   "name": "python",
   "nbconvert_exporter": "python",
   "pygments_lexer": "ipython3",
   "version": "3.9.21"
  }
 },
 "nbformat": 4,
 "nbformat_minor": 5
}
