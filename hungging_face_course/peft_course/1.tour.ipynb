{
 "cells": [
  {
   "cell_type": "markdown",
   "id": "e3522aeb",
   "metadata": {},
   "source": [
    "# PEFT"
   ]
  },
  {
   "cell_type": "code",
   "execution_count": null,
   "id": "b022dcdb",
   "metadata": {},
   "outputs": [
    {
     "name": "stdout",
     "output_type": "stream",
     "text": [
      "Collecting peft\n",
      "  Downloading peft-0.15.2-py3-none-any.whl.metadata (13 kB)\n",
      "Requirement already satisfied: numpy>=1.17 in d:\\anaconda\\envs\\d2lc\\lib\\site-packages (from peft) (1.26.4)\n",
      "Requirement already satisfied: packaging>=20.0 in d:\\anaconda\\envs\\d2lc\\lib\\site-packages (from peft) (24.2)\n",
      "Requirement already satisfied: psutil in d:\\anaconda\\envs\\d2lc\\lib\\site-packages (from peft) (5.9.0)\n",
      "Requirement already satisfied: pyyaml in d:\\anaconda\\envs\\d2lc\\lib\\site-packages (from peft) (6.0.2)\n",
      "Requirement already satisfied: torch>=1.13.0 in d:\\anaconda\\envs\\d2lc\\lib\\site-packages (from peft) (2.7.0+cu126)\n",
      "Requirement already satisfied: transformers in d:\\anaconda\\envs\\d2lc\\lib\\site-packages (from peft) (4.47.0)\n",
      "Requirement already satisfied: tqdm in d:\\anaconda\\envs\\d2lc\\lib\\site-packages (from peft) (4.67.1)\n",
      "Requirement already satisfied: accelerate>=0.21.0 in d:\\anaconda\\envs\\d2lc\\lib\\site-packages (from peft) (1.7.0)\n",
      "Requirement already satisfied: safetensors in d:\\anaconda\\envs\\d2lc\\lib\\site-packages (from peft) (0.4.5)\n",
      "Requirement already satisfied: huggingface_hub>=0.25.0 in d:\\anaconda\\envs\\d2lc\\lib\\site-packages (from peft) (0.26.5)\n",
      "Requirement already satisfied: filelock in d:\\anaconda\\envs\\d2lc\\lib\\site-packages (from huggingface_hub>=0.25.0->peft) (3.16.1)\n",
      "Requirement already satisfied: fsspec>=2023.5.0 in d:\\anaconda\\envs\\d2lc\\lib\\site-packages (from huggingface_hub>=0.25.0->peft) (2024.10.0)\n",
      "Requirement already satisfied: requests in d:\\anaconda\\envs\\d2lc\\lib\\site-packages (from huggingface_hub>=0.25.0->peft) (2.32.3)\n",
      "Requirement already satisfied: typing-extensions>=3.7.4.3 in d:\\anaconda\\envs\\d2lc\\lib\\site-packages (from huggingface_hub>=0.25.0->peft) (4.12.2)\n",
      "Requirement already satisfied: sympy>=1.13.3 in d:\\anaconda\\envs\\d2lc\\lib\\site-packages (from torch>=1.13.0->peft) (1.14.0)\n",
      "Requirement already satisfied: networkx in d:\\anaconda\\envs\\d2lc\\lib\\site-packages (from torch>=1.13.0->peft) (3.2.1)\n",
      "Requirement already satisfied: jinja2 in d:\\anaconda\\envs\\d2lc\\lib\\site-packages (from torch>=1.13.0->peft) (3.1.4)\n",
      "Requirement already satisfied: mpmath<1.4,>=1.1.0 in d:\\anaconda\\envs\\d2lc\\lib\\site-packages (from sympy>=1.13.3->torch>=1.13.0->peft) (1.3.0)\n",
      "Requirement already satisfied: colorama in d:\\anaconda\\envs\\d2lc\\lib\\site-packages (from tqdm->peft) (0.4.6)\n",
      "Requirement already satisfied: MarkupSafe>=2.0 in d:\\anaconda\\envs\\d2lc\\lib\\site-packages (from jinja2->torch>=1.13.0->peft) (3.0.2)\n",
      "Requirement already satisfied: charset-normalizer<4,>=2 in d:\\anaconda\\envs\\d2lc\\lib\\site-packages (from requests->huggingface_hub>=0.25.0->peft) (3.4.0)\n",
      "Requirement already satisfied: idna<4,>=2.5 in d:\\anaconda\\envs\\d2lc\\lib\\site-packages (from requests->huggingface_hub>=0.25.0->peft) (3.10)\n",
      "Requirement already satisfied: urllib3<3,>=1.21.1 in d:\\anaconda\\envs\\d2lc\\lib\\site-packages (from requests->huggingface_hub>=0.25.0->peft) (2.2.3)\n",
      "Requirement already satisfied: certifi>=2017.4.17 in d:\\anaconda\\envs\\d2lc\\lib\\site-packages (from requests->huggingface_hub>=0.25.0->peft) (2024.12.14)\n",
      "Requirement already satisfied: regex!=2019.12.17 in d:\\anaconda\\envs\\d2lc\\lib\\site-packages (from transformers->peft) (2024.11.6)\n",
      "Requirement already satisfied: tokenizers<0.22,>=0.21 in d:\\anaconda\\envs\\d2lc\\lib\\site-packages (from transformers->peft) (0.21.0)\n",
      "Downloading peft-0.15.2-py3-none-any.whl (411 kB)\n",
      "Installing collected packages: peft\n",
      "Successfully installed peft-0.15.2\n"
     ]
    }
   ],
   "source": [
    "# !pip install peft"
   ]
  },
  {
   "cell_type": "code",
   "execution_count": null,
   "id": "ec9ded26",
   "metadata": {},
   "outputs": [],
   "source": [
    "from peft import LoraConfig,TaskType\n",
    "\n",
    "# 开启一个peft任务配置\n",
    "peft_config = LoraConfig(task_type=TaskType.SEQ_2_SEQ_LM,inference_mode=False,r=8,lora_alpha=32,lora_dropout=0.1)\n"
   ]
  },
  {
   "cell_type": "code",
   "execution_count": 6,
   "id": "0dcbf1c1",
   "metadata": {},
   "outputs": [
    {
     "data": {
      "application/vnd.jupyter.widget-view+json": {
       "model_id": "d59701dc500941e68ba40cdb20512983",
       "version_major": 2,
       "version_minor": 0
      },
      "text/plain": [
       "model.safetensors:  12%|#1        | 566M/4.92G [00:00<?, ?B/s]"
      ]
     },
     "metadata": {},
     "output_type": "display_data"
    }
   ],
   "source": [
    "from transformers import AutoModelForSeq2SeqLM\n",
    "\n",
    "model = AutoModelForSeq2SeqLM.from_pretrained(\"bigscience/mt0-large\")"
   ]
  },
  {
   "cell_type": "code",
   "execution_count": 7,
   "id": "ec818e0e",
   "metadata": {},
   "outputs": [
    {
     "name": "stdout",
     "output_type": "stream",
     "text": [
      "trainable params: 2,359,296 || all params: 1,231,940,608 || trainable%: 0.1915\n"
     ]
    }
   ],
   "source": [
    "from peft import get_peft_model\n",
    "\n",
    "# 现有的模型+peft配置 = peft模型\n",
    "model = get_peft_model(model,peft_config)\n",
    "model.print_trainable_parameters()"
   ]
  },
  {
   "cell_type": "code",
   "execution_count": null,
   "id": "52c51068",
   "metadata": {},
   "outputs": [],
   "source": [
    "# 可以使用 Transformers Trainer、Accelerate 或任何自定义 PyTorch 训练循环来训练模型\n",
    "from transformers import TrainingArguments,Trainer\n",
    "training_args = TrainingArguments(\n",
    "    output_dir='./big-science/mt0-large-lora'\n",
    "    ,learning_rate=1e-3\n",
    "    ,per_device_train_batch_size=32\n",
    "    ,per_device_eval_batch_size=32\n",
    "    ,num_train_epochs=2\n",
    "    ,weight_decay=0.01\n",
    "    ,eval_strategy='epoch'\n",
    "    ,save_strategy='epoch'\n",
    "    ,load_best_model_at_end=True\n",
    ")\n",
    "trainer = Trainer(\n",
    "    model = model\n",
    "    ,args=training_args\n",
    "    ,train_dataset=tokenized_datasets['train']\n",
    "    ,eval_dataset=tokenized_datasets['test']\n",
    "    ,tokenizer=tokenizer\n",
    "    ,data_collator=data_collator\n",
    "    ,compute_metrics=metrics,\n",
    ")\n",
    "trainer.train()"
   ]
  },
  {
   "cell_type": "code",
   "execution_count": null,
   "id": "dfaf2a3c",
   "metadata": {},
   "outputs": [],
   "source": [
    "# 保存模型\n",
    "model.save_pretrained('./my_model')"
   ]
  }
 ],
 "metadata": {
  "kernelspec": {
   "display_name": "d2lc",
   "language": "python",
   "name": "python3"
  },
  "language_info": {
   "codemirror_mode": {
    "name": "ipython",
    "version": 3
   },
   "file_extension": ".py",
   "mimetype": "text/x-python",
   "name": "python",
   "nbconvert_exporter": "python",
   "pygments_lexer": "ipython3",
   "version": "3.9.21"
  }
 },
 "nbformat": 4,
 "nbformat_minor": 5
}
